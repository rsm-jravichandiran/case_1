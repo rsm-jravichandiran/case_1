{
 "cells": [
  {
   "cell_type": "markdown",
   "id": "0c923fc7",
   "metadata": {},
   "source": [
    "# Case 1. Python basics\n",
    "\n",
    "In this case, we'll apply what you've learned about programming so far and start using **functions**. Functions are building blocks you can use and re-use in your code. At this stage in your programming journey we encourage you to use mostly loops and if-else statements for your calculations. This will force you to build up your code in chunks that will ultimately connect together to produce the desired result. It will also give you a better mental model of what Python is doing \"under the hood\" when using functions and methods from tools like `pandas` and `numpy` to solve complex problems."
   ]
  },
  {
   "cell_type": "markdown",
   "id": "743fcfaa",
   "metadata": {},
   "source": [
    "## For Local analysis\n",
    "\n",
    "If you prefer to develop your code in VS Code in a Jupyter notebook, you can download <a href=\"cases/mini_case_1.ipynb\">mini_case_1.ipynb</a>. This notebook file has the same text and code snippets that you see on this webpage. After creating the required code, copy-and-paste it into the code-inputs on this webpage for testing."
   ]
  },
  {
   "cell_type": "markdown",
   "id": "34acffae",
   "metadata": {},
   "source": [
    "## Calculate word length"
   ]
  },
  {
   "cell_type": "code",
   "execution_count": 3,
   "id": "1a7b7a72",
   "metadata": {
    "name": "unnamed-chunk-1"
   },
   "outputs": [
    {
     "data": {
      "text/plain": [
       "{'tax': 3, 'house': 5, 'purple': 6}"
      ]
     },
     "execution_count": 3,
     "metadata": {},
     "output_type": "execute_result"
    }
   ],
   "source": [
    "# Question 1.01: Create a function that returns a dictionary with word lengths\n",
    "# and \"keys\". Use a loop to evaluate each word separately using the `len`\n",
    "# function. For example, `len(\"something\")` would return 9. Initialize a\n",
    "# dictionary `wl` that is the same length as the list of words passed to your\n",
    "# function and fill the dictionary with the number of characters in each word.\n",
    "# Use the actual words as the keys for the dictionary. Note that your function\n",
    "# should work with any list with one or more words\n",
    "\n",
    "def word_length(words):\n",
    "    # initialize a dictionary that will hold the\n",
    "    # word length information\n",
    "    # recall that python doesn't have named vectors\n",
    "    # so I'm using a dictionary instead and using\n",
    "    # another loop to create it\n",
    "    wl = {w: 0 for w in words}\n",
    "    for l in words:\n",
    "        wl[l] = len(l)\n",
    "\n",
    "    # replace with your code\n",
    "\n",
    "    # return the dictionary of word lengths\n",
    "    return wl\n",
    "\n",
    "\n",
    "word_length([\"mouse\", \"king\"])  # should return 5 and 4 in a dictionary\n",
    "word_length([\"tax\", \"house\", \"purple\"])  # should return 3, 5, and 6 in a dictionary"
   ]
  },
  {
   "cell_type": "markdown",
   "id": "3aaebadd",
   "metadata": {},
   "source": [
    "## Longest word (Python)\n",
    "\n",
    "You have now developed a function `word_length` that works similarly to `nchar` in R. That is, `word_length(\"a\", \"we\", \"are\")` will return a dictionary with the numbers 1, 2, and 3, with corresponding dictionary keys. We will use this function in the remaining exercises below.\n"
   ]
  },
  {
   "cell_type": "code",
   "execution_count": 4,
   "id": "4a43ac2a",
   "metadata": {
    "name": "unnamed-chunk-2"
   },
   "outputs": [
    {
     "name": "stdout",
     "output_type": "stream",
     "text": [
      "The first word is longest, 5 > 4\n",
      "The second word is longest, 3 < 5\n",
      "Both words are 6 characters long\n",
      "Sorry. Please provide exactly two words to compare\n"
     ]
    }
   ],
   "source": [
    "# Question 1.02: Use your `word_length` function to calculate the length of two\n",
    "# words in a list. Then compare the length of the words and `return` a string\n",
    "# that describes (1) if one word is longer than the other and (2) how long both\n",
    "# words are if they are equally long. The examples shown below indicate\n",
    "# **exactly** what text you should generate. This includes the number of\n",
    "# spaces! In this function you will need to use `if-else` statements and\n",
    "# combine strings and numbers using f-strings or concatenation (`+`)\n",
    "\n",
    "def longest_word(words):\n",
    "    if len(words)>2: \n",
    "        mess = \"Sorry. Please provide exactly two words to compare\"\n",
    "    else:\n",
    "        w_l = word_length(words)\n",
    "        if w_l[words[0]] == w_l[words[1]]:\n",
    "            mess = \"Both words are \" + str(w_l[words[0]]) + \" characters long\"\n",
    "        else:\n",
    "            if w_l[words[0]] > w_l[words[1]]:\n",
    "                mess = \"The first word is longest, \" + str(w_l[words[0]]) + \" > \" + str(w_l[words[1]])\n",
    "            else:\n",
    "                mess = \"The second word is longest, \" + str(w_l[words[0]]) + \" < \" + str(w_l[words[1]])\n",
    "    # replace with your code\n",
    "    \n",
    "    \n",
    "    \n",
    "\n",
    "    return mess  # return message as a string\n",
    "\n",
    "\n",
    "print(longest_word([\"mouse\", \"king\"])) # should return \"The first word is longest, 5 > 4\"\n",
    "print(longest_word([\"tax\", \"house\"]))  # should return \"The second word is longest, 3 < 5\"\n",
    "print(longest_word([\"purple\", \"orange\"]))  # should return \"Both words are 6 characters long\"\n",
    "print(longest_word(\n",
    "    [\"purple\", \"orange\", \"red\"]\n",
    "))  # should return \"Sorry. Please provide exactly two words to compare\""
   ]
  },
  {
   "cell_type": "markdown",
   "id": "52a4bc50",
   "metadata": {},
   "source": [
    "## Shortest word\n",
    "\n",
    "Our `longest_word` function works fine if we only have two words to compare. What if we want to find the shortest word in a list of any length?\n"
   ]
  },
  {
   "cell_type": "code",
   "execution_count": 5,
   "id": "d08bc7dc",
   "metadata": {
    "name": "unnamed-chunk-3"
   },
   "outputs": [
    {
     "name": "stdout",
     "output_type": "stream",
     "text": [
      "4\n",
      "3\n",
      "6\n"
     ]
    }
   ],
   "source": [
    "# Question 1.03: Again, use your `word_length` function to calculate the number\n",
    "# of characters in each word passed to the `shortest_word` function. Then use a\n",
    "# loop to determine the length of the shortest word. You should only use the\n",
    "# `word_length` function, a for loop, and an if-statement to complete this\n",
    "# exercise. You may also want to iterate over only the word-length values by\n",
    "# using the `.values()` method for a dictionary\n",
    "\n",
    "from math import inf\n",
    "\n",
    "def shortest_word(words):\n",
    "    wl = word_length(words)\n",
    "    s = inf\n",
    "    for v in wl.values():\n",
    "        if v < s:\n",
    "            s = v\n",
    "\n",
    "    return s  # length of the shortest word\n",
    "\n",
    "\n",
    "print(shortest_word([\"mouse\", \"king\"]))  # should return 4\n",
    "print(shortest_word([\"tax\", \"house\"]))  # should return 3\n",
    "print(shortest_word([\"purple\", \"orange\"]))  # should return 6\n"
   ]
  },
  {
   "cell_type": "markdown",
   "id": "3389d5e1",
   "metadata": {},
   "source": [
    "## Shortest words\n",
    "\n",
    "The `shortest_word` function works if we only want the shortest word. Things become a bit more complex if we want the shortest and the next shortest word length.\n"
   ]
  },
  {
   "cell_type": "code",
   "execution_count": 6,
   "id": "85381757",
   "metadata": {
    "name": "unnamed-chunk-4"
   },
   "outputs": [
    {
     "name": "stdout",
     "output_type": "stream",
     "text": [
      "[2, 4]\n",
      "[3, 4]\n",
      "[3, 6]\n",
      "[4, 4]\n"
     ]
    }
   ],
   "source": [
    "# Question 1.04: Again, use your `word_length` function to calculate the number\n",
    "# of characters in each word passed to the `shortest_words` function. Then use\n",
    "# a loop to determine the length of the shortest word. You will also need to\n",
    "# update the length of the next shortest word as you iterate through the word\n",
    "# lengths. You should only use the `word_length` function, a for loop, and an\n",
    "# if-else-if statement to complete this exercise\n",
    "\n",
    "from math import inf\n",
    "\n",
    "\n",
    "def shortest_words(words):\n",
    "    wl = word_length(words)\n",
    "    s = inf  # initial value for shortest word length\n",
    "    ns = inf  # initial value for next shortest word length\n",
    "\n",
    "    for w in wl.values():\n",
    "        if w<s:\n",
    "            ns = s\n",
    "            s = w\n",
    "        elif w<ns:\n",
    "            ns = w\n",
    "\n",
    "\n",
    "    return [s, ns]  # length of the shortest and next shortest word\n",
    "\n",
    "\n",
    "print(shortest_words([\"mouse\", \"king\", \"on\"]))  # should return [2, 4]\n",
    "print(shortest_words([\"tax\", \"house\", \"blue\"]))  # should return [3, 4]\n",
    "print(shortest_words([\"purple\", \"red\", \"turquoise\"]))  # should return [3, 6]\n",
    "print(shortest_words([\"blue\", \"house\", \"king\"]))  # should return [4, 4]"
   ]
  },
  {
   "cell_type": "markdown",
   "id": "c94f68be",
   "metadata": {},
   "source": [
    "## Shortest actual words (Python)\n",
    "\n",
    "The `shortest_words` function provides the lengths of the two shortest words in a list. Now write a new function called `shortest_actual_words` that returns the shortest and next shortest words.\n"
   ]
  },
  {
   "cell_type": "code",
   "execution_count": 7,
   "id": "becadbdf",
   "metadata": {
    "name": "unnamed-chunk-5"
   },
   "outputs": [
    {
     "name": "stdout",
     "output_type": "stream",
     "text": [
      "['on', 'king']\n",
      "['tax', 'blue']\n",
      "['red', 'purple']\n",
      "['red', 'tax']\n"
     ]
    }
   ],
   "source": [
    "# Question 1.05: Create a function called `shortest_actual_words` that returns\n",
    "# the actual shortest and next shortest words rather than their word lengths.\n",
    "# Note: Your function should use `for` and `if-elif` statements but no other\n",
    "# functions from Python.\n",
    "\n",
    "from math import inf\n",
    "\n",
    "\n",
    "def shortest_actual_words(words):\n",
    "    wl = word_length(words)\n",
    "    s = inf  # initial value for shortest word length\n",
    "    ns = inf  # initial value for next shortest word length\n",
    "    sw = \"\"  # initial value for shortest actual word\n",
    "    nsw = \"\"  # initial value for next shortest actual word\n",
    "    #wl_l = list(wl.items())\n",
    "    #print(wl_l)\n",
    "    for x,w in wl.items():\n",
    "        if w < s:\n",
    "            ns = s\n",
    "            s = w\n",
    "            nsw = sw\n",
    "            sw = x\n",
    "        elif w < ns:\n",
    "            ns = w\n",
    "            nsw = x\n",
    "\n",
    "    return [sw, nsw]\n",
    "\n",
    "\n",
    "print(shortest_actual_words([\"mouse\", \"king\", \"on\"]))  # should return [\"on\", \"king\"]\n",
    "print(shortest_actual_words([\"tax\", \"house\", \"blue\"]))  # should return [\"tax\", \"blue\"]\n",
    "print(shortest_actual_words([\"purple\", \"red\", \"turquoise\"]))  # should return [\"red\", \"purple\"]\n",
    "print(shortest_actual_words([\"purple\", \"red\", \"tax\"]))  # should return [\"red\", \"tax\"]"
   ]
  },
  {
   "cell_type": "markdown",
   "id": "b4ce2493",
   "metadata": {},
   "source": [
    "## Mean and median word length (Python)\n",
    "\n",
    "To wrap up this section on Python coding you will need to calculate mean and median word lengths. \n"
   ]
  },
  {
   "cell_type": "code",
   "execution_count": 8,
   "id": "cb43e1eb",
   "metadata": {
    "name": "unnamed-chunk-6"
   },
   "outputs": [
    {
     "name": "stdout",
     "output_type": "stream",
     "text": [
      "3.666667\n",
      "4\n",
      "6\n"
     ]
    }
   ],
   "source": [
    "# Question 1.06: Create a function called `mean_word_length` that returns the\n",
    "# average length from a list of words. Note: Your function should use a for\n",
    "# loop, `word_length`, and `len` but no other functions from Python. Since you\n",
    "# only need the word length values here you can use the `.values()` method for\n",
    "# a dictionary\n",
    "\n",
    "def mean_word_length(words):\n",
    "    wl = word_length(words)\n",
    "    wl_sum = 0\n",
    "    for l in wl.values():\n",
    "        wl_sum = wl_sum + l\n",
    "\n",
    "    wl_mean = wl_sum/len(words)\n",
    "\n",
    "    if wl_mean%2==0:\n",
    "        return int(wl_mean)\n",
    "    else:\n",
    "        return round(wl_mean,6)\n",
    "\n",
    "\n",
    "print(mean_word_length([\"mouse\", \"king\", \"on\"]))  # should return 3.666667\n",
    "print(mean_word_length([\"tax\", \"house\", \"blue\"]))  # should return 4\n",
    "print(mean_word_length([\"purple\", \"red\", \"turquoise\"]))  # should return 6\n"
   ]
  },
  {
   "cell_type": "markdown",
   "id": "147cd742",
   "metadata": {},
   "source": [
    "In case you are not yet familiar with them, you may want to to review the documentation for <a href=\"https://docs.python.org/3/library/math.html\" target=\"_blank\">floor</a> and the <a href=\"https://docs.python.org/3/howto/sorting.html\" target=\"_blank\">sort</a> method for lists when you try to calculate the median word length. You can also apply the `sorted` function to a list in Python.\n"
   ]
  },
  {
   "cell_type": "code",
   "execution_count": 9,
   "id": "9fdb01a0",
   "metadata": {
    "name": "unnamed-chunk-7"
   },
   "outputs": [
    {
     "name": "stdout",
     "output_type": "stream",
     "text": [
      "3.5\n",
      "4\n",
      "6\n"
     ]
    }
   ],
   "source": [
    "# Question 1.07: Create a function called `median_word_length` that returns the\n",
    "# median length from a list of words. Note: Your function should use an\n",
    "# `if-else` statement, `word_length`, `len`, `sort`, and `floor` but no other\n",
    "# functions from Python\n",
    "\n",
    "from math import floor\n",
    "\n",
    "\n",
    "def median_word_length(words):\n",
    "    wl = list(word_length(words).values())\n",
    "    len_wl = len(wl)\n",
    "    wl.sort()  # recall that lists are mutable and so are sorted in-place\n",
    "    n = len(wl)\n",
    "    \n",
    "    mid = n // 2\n",
    "    if n % 2 == 1:\n",
    "        return wl[mid]\n",
    "    else:\n",
    "        return (wl[mid-1] + wl[mid])/2\n",
    "\n",
    "    return wls_median\n",
    "\n",
    "\n",
    "print(median_word_length([\"mouse\", \"on\"]))  # should return 3.5\n",
    "print(median_word_length([\"tax\", \"house\", \"blue\"]))  # should return 4\n",
    "print(median_word_length([\"purple\", \"red\", \"turquoise\"]))  # should return 6"
   ]
  },
  {
   "cell_type": "markdown",
   "id": "3106920b",
   "metadata": {},
   "source": []
  }
 ],
 "metadata": {
  "jupytext": {
   "cell_metadata_filter": "name,-all"
  },
  "kernelspec": {
   "display_name": "Python 3 (ipykernel)",
   "language": "python",
   "name": "python3"
  },
  "language_info": {
   "codemirror_mode": {
    "name": "ipython",
    "version": 3
   },
   "file_extension": ".py",
   "mimetype": "text/x-python",
   "name": "python",
   "nbconvert_exporter": "python",
   "pygments_lexer": "ipython3",
   "version": "3.11.9"
  }
 },
 "nbformat": 4,
 "nbformat_minor": 5
}
